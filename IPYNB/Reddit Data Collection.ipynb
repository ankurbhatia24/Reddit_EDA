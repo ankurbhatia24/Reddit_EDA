{
 "cells": [
  {
   "cell_type": "markdown",
   "metadata": {},
   "source": [
    "## Import necessary libraries"
   ]
  },
  {
   "cell_type": "code",
   "execution_count": 11,
   "metadata": {},
   "outputs": [],
   "source": [
    "import praw  #python wrapper for reddit api\n",
    "import pandas as pd\n",
    "from tqdm import tqdm"
   ]
  },
  {
   "cell_type": "markdown",
   "metadata": {},
   "source": [
    "## Initialize praw instance"
   ]
  },
  {
   "cell_type": "code",
   "execution_count": 27,
   "metadata": {},
   "outputs": [],
   "source": [
    "## Create a praw.ini file to store the secret and id, Dont share these - https://praw.readthedocs.io/en/latest/getting_started/configuration/prawini.html#praw-ini\n",
    "reddit = praw.Reddit(client_id='xIQ7eUUJzsg5nA', client_secret='14hz-3KSfKxkV1y2qB5B1xLWMvo', \n",
    "                     user_agent='subreddit_data_analytics')\n",
    "# reddit = praw.Reddit(client_id='xIQ7eUUJzsg5nA',\n",
    "#                      client_secret='14hz-3KSfKxkV1y2qB5B1xLWMvo',\n",
    "#                      password='<password>',\n",
    "#                      user_agent='subreddit_data_analytics',\n",
    "#                      username='<username>')"
   ]
  },
  {
   "cell_type": "code",
   "execution_count": 28,
   "metadata": {},
   "outputs": [
    {
     "name": "stdout",
     "output_type": "stream",
     "text": [
      "None\n"
     ]
    }
   ],
   "source": [
    "print(reddit.user.me())"
   ]
  },
  {
   "cell_type": "markdown",
   "metadata": {},
   "source": [
    "## Initialize flairs for which the data needs to be collected"
   ]
  },
  {
   "cell_type": "code",
   "execution_count": 29,
   "metadata": {},
   "outputs": [],
   "source": [
    "flairs = [\"AskIndia\", \"Coronavirus\", \"Non-Political\", \"[R]eddiquette\", \"Scheduled\", \"Photography\",\n",
    "                         \"Science/Technology\", \"Politics\", \"Business/Finance\", \"Policy/Economy\", \"Sports\", \"Food\", \"AMA\"]"
   ]
  },
  {
   "cell_type": "markdown",
   "metadata": {},
   "source": [
    "## Collect data for all the flairs, and save it to a csv file"
   ]
  },
  {
   "cell_type": "code",
   "execution_count": 1,
   "metadata": {
    "scrolled": true
   },
   "outputs": [],
   "source": [
    "subreddit = reddit.subreddit('india')\n",
    "r_data = {\"flair\":[], \"title\":[], \"score\":[], \"id\":[],\n",
    "               \"url\":[], \"comms_num\": [], \"created\": [], \"body\":[],\n",
    "               \"author\":[], \"comments\":[], \"over_18\":[]}\n",
    "for flair_ in tqdm(flairs):\n",
    "#         get_subreddits = subreddit.search(f\"flair:{flair_}\", limit=10)\n",
    "        get_subreddits = subreddit.search(flair_, limit=None)\n",
    "\n",
    "        for submission in tqdm(get_subreddits):\n",
    "\n",
    "                    r_data[\"flair\"].append(submission.link_flair_text)\n",
    "                    r_data[\"title\"].append(submission.title)\n",
    "                    r_data[\"score\"].append(submission.score)\n",
    "                    r_data[\"id\"].append(submission.id)\n",
    "                    r_data[\"url\"].append(submission.url)\n",
    "                    r_data[\"comms_num\"].append(submission.num_comments)\n",
    "                    r_data[\"created\"].append(submission.created)\n",
    "                    r_data[\"body\"].append(submission.selftext)\n",
    "                    r_data[\"author\"].append(submission.author)\n",
    "                    r_data[\"over_18\"].append(submission.over_18)\n",
    "\n",
    "                    submission.comments.replace_more(limit=None)\n",
    "                    comment = ''\n",
    "                    for top_level_comment in submission.comments:\n",
    "                            comment = comment + ' ' + top_level_comment.body\n",
    "                    r_data[\"comments\"].append(comment)\n",
    "\n",
    "topics_data = pd.DataFrame(r_data)\n",
    "topics_data.to_csv('Flair_data.csv',  index_label = False)"
   ]
  },
  {
   "cell_type": "code",
   "execution_count": 2,
   "metadata": {},
   "outputs": [],
   "source": [
    "data = pd.read_csv('Flair_data.csv')"
   ]
  },
  {
   "cell_type": "markdown",
   "metadata": {},
   "source": [
    "## Print head of the dataframe"
   ]
  },
  {
   "cell_type": "code",
   "execution_count": 25,
   "metadata": {},
   "outputs": [
    {
     "data": {
      "text/html": [
       "<div>\n",
       "<style scoped>\n",
       "    .dataframe tbody tr th:only-of-type {\n",
       "        vertical-align: middle;\n",
       "    }\n",
       "\n",
       "    .dataframe tbody tr th {\n",
       "        vertical-align: top;\n",
       "    }\n",
       "\n",
       "    .dataframe thead th {\n",
       "        text-align: right;\n",
       "    }\n",
       "</style>\n",
       "<table border=\"1\" class=\"dataframe\">\n",
       "  <thead>\n",
       "    <tr style=\"text-align: right;\">\n",
       "      <th></th>\n",
       "      <th>flair</th>\n",
       "      <th>title</th>\n",
       "      <th>score</th>\n",
       "      <th>id</th>\n",
       "      <th>url</th>\n",
       "      <th>comms_num</th>\n",
       "      <th>created</th>\n",
       "      <th>body</th>\n",
       "      <th>author</th>\n",
       "      <th>comments</th>\n",
       "      <th>over_18</th>\n",
       "    </tr>\n",
       "  </thead>\n",
       "  <tbody>\n",
       "    <tr>\n",
       "      <th>0</th>\n",
       "      <td>Coronavirus</td>\n",
       "      <td>4 days ago we had pending orders of 100 millio...</td>\n",
       "      <td>93</td>\n",
       "      <td>fwjdqr</td>\n",
       "      <td>https://www.reddit.com/r/india/comments/fwjdqr...</td>\n",
       "      <td>6</td>\n",
       "      <td>1.586290e+09</td>\n",
       "      <td>&gt; We are getting frantic calls from our pharma...</td>\n",
       "      <td>india_ko_vanakkam</td>\n",
       "      <td>Modi has Stockholm syndrome To be fair, the e...</td>\n",
       "      <td>False</td>\n",
       "    </tr>\n",
       "    <tr>\n",
       "      <th>1</th>\n",
       "      <td>AskIndia</td>\n",
       "      <td>Randians who were big time users of dating app...</td>\n",
       "      <td>21</td>\n",
       "      <td>fizkkk</td>\n",
       "      <td>https://www.reddit.com/r/india/comments/fizkkk...</td>\n",
       "      <td>19</td>\n",
       "      <td>1.584298e+09</td>\n",
       "      <td>I'd my own stint with these apps(a couple of m...</td>\n",
       "      <td>__knockknockturnal__</td>\n",
       "      <td>Someone matched with me just to tell me that ...</td>\n",
       "      <td>False</td>\n",
       "    </tr>\n",
       "    <tr>\n",
       "      <th>2</th>\n",
       "      <td>AskIndia</td>\n",
       "      <td>What does r/India thinks about the Flat Earthers?</td>\n",
       "      <td>4</td>\n",
       "      <td>f25vx0</td>\n",
       "      <td>https://www.reddit.com/r/india/comments/f25vx0...</td>\n",
       "      <td>31</td>\n",
       "      <td>1.581441e+09</td>\n",
       "      <td>I encountered a Foreigner in IG who says \" Rou...</td>\n",
       "      <td>Dev1003</td>\n",
       "      <td>I haven't found a Indian yet who believes ear...</td>\n",
       "      <td>False</td>\n",
       "    </tr>\n",
       "    <tr>\n",
       "      <th>3</th>\n",
       "      <td>AskIndia</td>\n",
       "      <td>People who left their 9 to 5 jobs to pursue a ...</td>\n",
       "      <td>48</td>\n",
       "      <td>dtvliq</td>\n",
       "      <td>https://www.reddit.com/r/india/comments/dtvliq...</td>\n",
       "      <td>34</td>\n",
       "      <td>1.573333e+09</td>\n",
       "      <td>Couldn't add AskIndia flair from the mobile br...</td>\n",
       "      <td>c0mrade34</td>\n",
       "      <td>An Engineer, doing advertisement shoots since...</td>\n",
       "      <td>False</td>\n",
       "    </tr>\n",
       "    <tr>\n",
       "      <th>4</th>\n",
       "      <td>Unverified</td>\n",
       "      <td>Somebody want to kill my full family what to do?</td>\n",
       "      <td>92</td>\n",
       "      <td>b7pvwt</td>\n",
       "      <td>https://www.reddit.com/r/india/comments/b7pvwt...</td>\n",
       "      <td>24</td>\n",
       "      <td>1.554080e+09</td>\n",
       "      <td>It's now 24hrs, But local police station is no...</td>\n",
       "      <td>amitkumarthakur</td>\n",
       "      <td>Calm down.\\nGo to the SP office of your town,...</td>\n",
       "      <td>False</td>\n",
       "    </tr>\n",
       "  </tbody>\n",
       "</table>\n",
       "</div>"
      ],
      "text/plain": [
       "         flair                                              title  score  \\\n",
       "0  Coronavirus  4 days ago we had pending orders of 100 millio...     93   \n",
       "1     AskIndia  Randians who were big time users of dating app...     21   \n",
       "2     AskIndia  What does r/India thinks about the Flat Earthers?      4   \n",
       "3     AskIndia  People who left their 9 to 5 jobs to pursue a ...     48   \n",
       "4   Unverified   Somebody want to kill my full family what to do?     92   \n",
       "\n",
       "       id                                                url  comms_num  \\\n",
       "0  fwjdqr  https://www.reddit.com/r/india/comments/fwjdqr...          6   \n",
       "1  fizkkk  https://www.reddit.com/r/india/comments/fizkkk...         19   \n",
       "2  f25vx0  https://www.reddit.com/r/india/comments/f25vx0...         31   \n",
       "3  dtvliq  https://www.reddit.com/r/india/comments/dtvliq...         34   \n",
       "4  b7pvwt  https://www.reddit.com/r/india/comments/b7pvwt...         24   \n",
       "\n",
       "        created                                               body  \\\n",
       "0  1.586290e+09  > We are getting frantic calls from our pharma...   \n",
       "1  1.584298e+09  I'd my own stint with these apps(a couple of m...   \n",
       "2  1.581441e+09  I encountered a Foreigner in IG who says \" Rou...   \n",
       "3  1.573333e+09  Couldn't add AskIndia flair from the mobile br...   \n",
       "4  1.554080e+09  It's now 24hrs, But local police station is no...   \n",
       "\n",
       "                 author                                           comments  \\\n",
       "0     india_ko_vanakkam   Modi has Stockholm syndrome To be fair, the e...   \n",
       "1  __knockknockturnal__   Someone matched with me just to tell me that ...   \n",
       "2               Dev1003   I haven't found a Indian yet who believes ear...   \n",
       "3             c0mrade34   An Engineer, doing advertisement shoots since...   \n",
       "4       amitkumarthakur   Calm down.\\nGo to the SP office of your town,...   \n",
       "\n",
       "   over_18  \n",
       "0    False  \n",
       "1    False  \n",
       "2    False  \n",
       "3    False  \n",
       "4    False  "
      ]
     },
     "execution_count": 25,
     "metadata": {},
     "output_type": "execute_result"
    }
   ],
   "source": [
    "data.head()"
   ]
  },
  {
   "cell_type": "code",
   "execution_count": null,
   "metadata": {},
   "outputs": [],
   "source": []
  }
 ],
 "metadata": {
  "kernelspec": {
   "display_name": "Python 3",
   "language": "python",
   "name": "python3"
  },
  "language_info": {
   "codemirror_mode": {
    "name": "ipython",
    "version": 3
   },
   "file_extension": ".py",
   "mimetype": "text/x-python",
   "name": "python",
   "nbconvert_exporter": "python",
   "pygments_lexer": "ipython3",
   "version": "3.6.9"
  }
 },
 "nbformat": 4,
 "nbformat_minor": 2
}
